{
 "cells": [
  {
   "cell_type": "markdown",
   "metadata": {},
   "source": [
    "# Searching Algorithms"
   ]
  },
  {
   "cell_type": "markdown",
   "metadata": {},
   "source": [
    "### Linear Search"
   ]
  },
  {
   "cell_type": "markdown",
   "metadata": {},
   "source": [
    "- Simple enough. We just traverse through the entire array to search for an element. If the element is found, we return it. If not, we signal that it's not found."
   ]
  },
  {
   "cell_type": "code",
   "execution_count": 5,
   "metadata": {},
   "outputs": [
    {
     "data": {
      "text/plain": [
       "2"
      ]
     },
     "execution_count": 5,
     "metadata": {},
     "output_type": "execute_result"
    }
   ],
   "source": [
    "list_nums = [2,21,33,32,31,344,66]\n",
    "\n",
    "def search(list, find_num):\n",
    "    for x in range(len(list)):\n",
    "        if list[x]==find_num:\n",
    "            return x\n",
    "    \n",
    "    print (\"The number not present! Bye!\")\n",
    "            \n",
    "search(list_nums, 33)"
   ]
  },
  {
   "cell_type": "markdown",
   "metadata": {},
   "source": [
    "### Binary Search"
   ]
  },
  {
   "cell_type": "markdown",
   "metadata": {},
   "source": [
    "- Binary search or half-interval search algorithm finds the position of a target value within a sorted array.\n",
    "- The binary search algorithm can be classified as a dichotomies divide-and-conquer search algorithm and executes in logarithmic time."
   ]
  },
  {
   "cell_type": "code",
   "execution_count": null,
   "metadata": {},
   "outputs": [],
   "source": [
    "#Python code for binary search \n",
    "def binarySearch(items, digit):\n",
    "    first = 0\n",
    "    last = len(items)-1\n",
    "    found = False\n",
    "    \n",
    "    while first <= last and not found:\n",
    "        mid = (first+last)//2\n",
    "        \n",
    "        if items[mid] == digit:\n",
    "            found == True\n",
    "            \n",
    "        else:\n",
    "            if digit < items[mid]:\n",
    "                last = mid-1\n",
    "            else:\n",
    "                first = mid+1\n",
    "    return found\n",
    "\n",
    "print(binarySearch([3, 13 ,44 ,55 ,57 ,65 ,66, 73, 77, 89],44))"
   ]
  },
  {
   "cell_type": "code",
   "execution_count": null,
   "metadata": {},
   "outputs": [],
   "source": [
    "#Binary search for recursive version\n",
    "def binary_search(itemlist, data):\n",
    "    if len(itemlist)==0:\n",
    "        return False\n",
    "    else:\n",
    "        mid=len(itemlist)//2\n",
    "        if mid==data:\n",
    "            return True\n",
    "        else:\n",
    "            if data < itemlist[mid]:\n",
    "                return binary_search(itemlist[:mid], data)\n",
    "            else:\n",
    "                return binary_search(itemlist[mid:+1], data)\n",
    "            \n",
    "test_data=[1, 3, 4, 5, 6]\n",
    "print(binary_search(test_data, 6))"
   ]
  },
  {
   "cell_type": "code",
   "execution_count": null,
   "metadata": {},
   "outputs": [],
   "source": []
  }
 ],
 "metadata": {
  "kernelspec": {
   "display_name": "Python 3",
   "language": "python",
   "name": "python3"
  },
  "language_info": {
   "codemirror_mode": {
    "name": "ipython",
    "version": 3
   },
   "file_extension": ".py",
   "mimetype": "text/x-python",
   "name": "python",
   "nbconvert_exporter": "python",
   "pygments_lexer": "ipython3",
   "version": "3.7.3"
  }
 },
 "nbformat": 4,
 "nbformat_minor": 2
}
