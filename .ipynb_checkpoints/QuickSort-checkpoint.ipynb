{
 "cells": [
  {
   "cell_type": "markdown",
   "metadata": {},
   "source": [
    "### Quick Sort"
   ]
  },
  {
   "cell_type": "markdown",
   "metadata": {},
   "source": [
    "#### Summary:\n",
    "    - Quick sort is recursive in nature\n",
    "    - Divide-and-conquer algorithm\n",
    "    - Efficient for large data set"
   ]
  },
  {
   "cell_type": "markdown",
   "metadata": {},
   "source": [
    "#### Big Oh Analysis:\n",
    "    - Worst case: O(n^2)\n",
    "        - The data set can be mostly sorted, and the algorithm has to compare every element to the pivot.\n",
    "    - Average case: O(nlogn)\n",
    "    - Performance depends on the pivot value selection.\n",
    "        - The risk of selecting the first or last value is that if the list is already in sorted order or reverse \n",
    "            sorted order, it can have very bad performance that way.\n",
    "        - Selectinng middle/random/ or best of three value works much better."
   ]
  },
  {
   "cell_type": "raw",
   "metadata": {},
   "source": [
    "#### Pseudocode:\n",
    "\n",
    "Quicksort(A, p, r)\n",
    "if p < r:\n",
    "     q <- partition(A, p, r)\n",
    "    Quicksort(A, p, q)\n",
    "    Quicksort(A, q+1, r)\n",
    "     \n",
    "Partition(A, p, r)\n",
    "    x <- A[p]\n",
    "    i <- p - 1\n",
    "    j <- r + 1\n",
    "    while TRUE\n",
    "        do repeat j <- j - 1\n",
    "            until A[j] <= x\n",
    "        repeat i <- i + 1\n",
    "            untill A[i] >= x\n",
    "        if i < j\n",
    "               then exchange A[i] <-> A[j]\n",
    "        else return j"
   ]
  },
  {
   "cell_type": "code",
   "execution_count": 10,
   "metadata": {},
   "outputs": [],
   "source": [
    "# Python code from Youtube video\n",
    "\n",
    "def Quicksort(A):\n",
    "    quick_sort(A, 0, len(A-1))\n",
    "    \n",
    "def quick_sort(A, low, high):\n",
    "    if low < high:\n",
    "        p = partition(A, low, high)\n",
    "        quick_sort(A, low, p-1)\n",
    "        quick_sort(A, p+1, high)\n",
    "\n",
    "# now we create a function to select a pivot\n",
    "def get_pivot(A, low, high):\n",
    "    mid = (low + high)//2\n",
    "    pivot = high\n",
    "    if A[low] < A[mid]:\n",
    "        if A[mid] < A[high]:\n",
    "            pivot = mid\n",
    "    elif A[low] < A[high]:\n",
    "        pivot = low\n",
    "    return pivot\n",
    "\n",
    "# partition function\n",
    "def partition(A, low, high):\n",
    "    pivotIndex = get_pivot(A, low, high)\n",
    "    pivotValue = A[pivotIndex]\n",
    "    A[pivotIndex], A[low] = A[low], A[pivotIndex]\n",
    "    border = low\n",
    "    \n",
    "    for i in range(low, high + 1):\n",
    "        if A[i] < pivotValue:\n",
    "            border += 1\n",
    "        A[i], A[border] = A[border], A[i]\n",
    "    A[low], A[border] = A[border], A[low]\n",
    "    \n",
    "    return (border)"
   ]
  },
  {
   "cell_type": "code",
   "execution_count": 3,
   "metadata": {},
   "outputs": [
    {
     "name": "stdout",
     "output_type": "stream",
     "text": [
      "Quick Sort Result:  [1, 5, 7, 8, 9, 10]\n"
     ]
    }
   ],
   "source": [
    "# Python code from GeekForGeeks\n",
    "\n",
    "# Python implementation QuickSort using  \n",
    "# Hoare's partition Scheme. \n",
    "  \n",
    "import random \n",
    "  \n",
    "''' \n",
    "The function which implements randomised QuickSort, \n",
    "using Haore's partition scheme. \n",
    "arr :- array to be sorted. \n",
    "start :- starting index of the array. \n",
    "stop :- ending index of the array. \n",
    "'''\n",
    "def quicksort(arr, start, stop): \n",
    "    if(start < stop): \n",
    "          \n",
    "        # pivotindex is the index where \n",
    "        # the pivot lies in the array \n",
    "        pivotindex = partitionrand(arr, start, stop) \n",
    "          \n",
    "        # At this stage the array is partially sorted  \n",
    "        # around the pivot. seperately sorting the  \n",
    "        # left half of the array and the right half of the array. \n",
    "        quicksort(arr , start , pivotindex) \n",
    "        quicksort(arr, pivotindex + 1, stop) \n",
    "  \n",
    "# This function generates random pivot, swaps the first \n",
    "# element with the pivot and calls the partition fucntion. \n",
    "def partitionrand(arr , start, stop): \n",
    "  \n",
    "    # Generating a random number between  \n",
    "    # the starting index of the array and  \n",
    "    # the ending index of the array. \n",
    "    randpivot = random.randrange(start, stop) \n",
    "  \n",
    "    # Swapping the starting element of  \n",
    "    # the array and the pivot \n",
    "    arr[start], arr[randpivot] = arr[randpivot], arr[start] \n",
    "    return partition(arr, start, stop) \n",
    "  \n",
    "''' \n",
    "This function takes the first element as pivot,  \n",
    "places the pivot element at the correct position  \n",
    "in the sorted array. All the elements are re-arranged  \n",
    "according to the pivot, the elements smaller than  \n",
    "the pivot is places on the left and the elements \n",
    "greater than the pivot is placed to the right of pivot. \n",
    "'''\n",
    "def partition(arr,start,stop): \n",
    "    pivot = start # pivot \n",
    "    i = start - 1\n",
    "    j = stop + 1\n",
    "    while True: \n",
    "        while True: \n",
    "            i = i + 1\n",
    "            if arr[i] >= arr[pivot]: \n",
    "                break\n",
    "        while True: \n",
    "            j = j - 1\n",
    "            if arr[j] <= arr[pivot]: \n",
    "                break\n",
    "        if i >= j: \n",
    "            return j \n",
    "        arr[i] , arr[j] = arr[j] , arr[i] \n",
    "  \n",
    "# Driver Code \n",
    "if __name__ == \"__main__\": \n",
    "    array = [10, 7, 8, 9, 1, 5] \n",
    "    quicksort(array, 0, len(array) - 1) \n",
    "    print(\"Quick Sort Result: \", array)"
   ]
  },
  {
   "cell_type": "code",
   "execution_count": null,
   "metadata": {},
   "outputs": [],
   "source": []
  },
  {
   "cell_type": "code",
   "execution_count": null,
   "metadata": {},
   "outputs": [],
   "source": []
  }
 ],
 "metadata": {
  "kernelspec": {
   "display_name": "Python 3",
   "language": "python",
   "name": "python3"
  },
  "language_info": {
   "codemirror_mode": {
    "name": "ipython",
    "version": 3
   },
   "file_extension": ".py",
   "mimetype": "text/x-python",
   "name": "python",
   "nbconvert_exporter": "python",
   "pygments_lexer": "ipython3",
   "version": "3.7.3"
  }
 },
 "nbformat": 4,
 "nbformat_minor": 2
}
