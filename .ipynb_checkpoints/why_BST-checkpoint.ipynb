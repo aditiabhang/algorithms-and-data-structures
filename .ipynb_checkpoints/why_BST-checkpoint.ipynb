{
 "cells": [
  {
   "cell_type": "markdown",
   "metadata": {},
   "source": [
    "## Binary Search Tree"
   ]
  },
  {
   "cell_type": "markdown",
   "metadata": {},
   "source": [
    "Question: What data structure will you use to store a modifiable collection?\n",
    "          You want to perform:\n",
    "          search(x)     //search an element x\n",
    "          insert(x)     //insert an element x\n",
    "          remove(x)     //remove/ delete an element x"
   ]
  },
  {
   "cell_type": "markdown",
   "metadata": {},
   "source": [
    "Answer: Most common - arrays and linked lists\n",
    "\n",
    "\n",
    "Arrays- \n",
    "\n",
    "Lets consider running time of these conditions in arrays.\n",
    "Lets suppose we store arrays of integers, marked with first and end element, given that array largr enough to have some more space empty. In short, consider partially filled array.\n",
    "\n",
    "Search condition - We will have to search the element from first index till the marked end index. \n",
    "In worst condition, we will have to search the entire array.\n",
    "The total running time will be:\n",
    "Time complexity = O(n)\n",
    "\n",
    "Insert condition - If there is available space, we can increment the end, and add the element x.\n",
    "Time complexity = O(1)\n",
    "\n",
    "If we dont have available space, then we will have to create a larger array(usually size twice), copy the contents of the previous array and then perform the insertion. \n",
    "Time complexity = O(n)\n",
    "\n",
    "\n",
    "Remove condition - We will have to remove then shift the left or right of the removed elements.\n",
    "Time complexity = O(n)\n"
   ]
  },
  {
   "cell_type": "markdown",
   "metadata": {},
   "source": [
    "Linked Lists -\n",
    "\n",
    "Now, Lets consider running time of these conditions in Linked lists.\n",
    "\n",
    "Search condition - for the worst case, we will have to traverse the whole list\n",
    "Time complexity = O(n)\n",
    "\n",
    "Insertion condition - to insert at head or tail\n",
    "Time complexity = O(1)\n",
    "\n",
    "Remove condition - we will have to traverse the list, then remove. Worst case, we will have traverse the entire list.\n",
    "Time complexity = O(n)"
   ]
  },
  {
   "cell_type": "markdown",
   "metadata": {},
   "source": [
    "In case of searching an element, as it takes O(n), suppose we have a machine can perform a million comparision in 1 second. Cost of 1 second = 10^-6 comparisions.\n",
    "If n = 100 million,\n",
    "then time taken will 100 seconds, which is not good.\n",
    "\n",
    "Question: Is there any better way to search?\n",
    "Answer:\n",
    "Yes. Using Binary search on sorted data, of runninf time O(log n) - best run time\n",
    "But this has requirements: The data should be in array and must be in sorted order.\n",
    "\n",
    "For insertion and deletion on sorted list, it has additional action to sort the data after performing the insertion or deletion. Making the running time O(n)"
   ]
  },
  {
   "cell_type": "code",
   "execution_count": null,
   "metadata": {},
   "outputs": [],
   "source": [
    "              Array      Linked List     Array(Sorted)                         | BST\n",
    "Search(x)      O(n)        O(n)             O(log n) //using binary search     | O(log n)\n",
    "Insert(x)      O(1)        O(1)             O(n)                               | O(log n)\n",
    "Remove(x)      O(n)        O(n)             O(n)                               | O(log n)"
   ]
  },
  {
   "cell_type": "markdown",
   "metadata": {},
   "source": [
    "NOTE: Worst case of BST (O(n)) can be avoided by making sure the trees are balanced."
   ]
  },
  {
   "cell_type": "markdown",
   "metadata": {},
   "source": [
    "Explanation why O(log n) is best:\n",
    "\n",
    "Consider, if a machine performs a million comparitions in 1 sec, then\n",
    "1 comparision = 1^-6 secs\n",
    "\n",
    "Take n = greater than 2 billion\n",
    "n = 2^31 \n",
    "running time in seconds => O(log2^31) = 31 * 10^-6 (31 microseconds)"
   ]
  }
 ],
 "metadata": {
  "kernelspec": {
   "display_name": "Python 3",
   "language": "python",
   "name": "python3"
  },
  "language_info": {
   "codemirror_mode": {
    "name": "ipython",
    "version": 3
   },
   "file_extension": ".py",
   "mimetype": "text/x-python",
   "name": "python",
   "nbconvert_exporter": "python",
   "pygments_lexer": "ipython3",
   "version": "3.7.3"
  }
 },
 "nbformat": 4,
 "nbformat_minor": 2
}
