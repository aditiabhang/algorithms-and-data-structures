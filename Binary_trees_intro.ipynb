{
 "cells": [
  {
   "cell_type": "markdown",
   "metadata": {},
   "source": [
    "# Binary Trees"
   ]
  },
  {
   "cell_type": "markdown",
   "metadata": {},
   "source": [
    "Binary Tree:\n",
    "    - recursive data structure\n",
    "    - a tree with n nodes has exactly (n-1) edges\n",
    "    - Depth property:\n",
    "        - a depth of tree, suppose node x = length of path root to x\n",
    "        i.e number of edges from root to x node\n",
    "    - Height property:\n",
    "    - no of edges in the longest path from x to leaf (a no with 0 child)"
   ]
  },
  {
   "cell_type": "markdown",
   "metadata": {},
   "source": [
    "Types of trees:\n",
    "- A  binary tree: A tree in which each node has exactly 2 children (left child and right child)\n",
    "- Generic Tree: A tree in which nodes can have any number of children"
   ]
  },
  {
   "cell_type": "markdown",
   "metadata": {},
   "source": [
    "Applications:\n",
    "- Storing naturally hierarchical data - eg. file system in disk drive; the file and folder\n",
    "- Organinsing data for quick search, inserion, deletion - eg, binary search tree\n",
    "- Trie ; a special kind of tree used to store a dictionary, fast and efficient and is used for dynamic spell checking\n",
    "- Network Routing Algorithms"
   ]
  },
  {
   "cell_type": "markdown",
   "metadata": {},
   "source": [
    "Strict/proper binary tree:\n",
    "- nodes can have either 2 or 0 children\n",
    "\n",
    "Complete binary tree:\n",
    "- all levels (except last level) are completely filled, as left as possible.\n",
    "- maximum nodes at level 'i' = 2^i\n",
    "\n",
    "Perfect binary tree:\n",
    "- all levels are completely filled\n",
    "- height = max depth\n",
    "- max # of nodes in a tree with height h\n",
    "    = 2^0 + 2^1 + .. + 2^h\n",
    "    = 2^h+1 - 1\n",
    "    = 2^(#of nodes) -1\n",
    "- Q. What will be the height of perfect binary tree with n nodes?\n",
    "  Ans: # of nodes = 2^(h+1) - 1\n",
    "    Therefore, 2^(h+1) = (n + 1)\n",
    "    h = log2(n+1) - 1\n",
    "- Q. What will be the height of complete binary tree with n nodes?\n",
    "  Ans: (floor of) [ log2 n ]\n",
    "\n",
    "Note: Worst case time complexity for Perfect and Complete Binary tree = O(log2n)\n",
    "\n",
    "Sparse (list-type) binary tree:\n",
    "- min height = [log2n]\n",
    "- max height = n-1\n",
    "\n",
    " Note: Worst case for sparse binary tree = O(n)"
   ]
  },
  {
   "cell_type": "markdown",
   "metadata": {},
   "source": [
    "Consider, if the height of tree is 100, \n",
    "for Proper / Complete binary tree, the time complexity will be 100,\n",
    "and for sparse binary tree it will be 2^100\n",
    "It will take forever to finish the computation.\n",
    "\n",
    "Hence, we need to keep the height of the tree as minimum as possible.\n",
    "Or most commanly, we try to keep our tree balanced.\n",
    "Here comes the Balanced Binary Tree\n",
    "\n",
    "Balance Binary Tree:\n",
    "- difference between left and right subtree for every node is not more \n",
    "than 'k' (mostly 1)\n",
    "- Height of an empty tree = -1\n",
    "- Height of a tree with one node = 0\n",
    "----------------------------------------\n",
    "Implementation of Binary Tree:\n",
    "- dynamically created nodes\n",
    "- arrays (usually in case for complete binary tree)\n",
    "    - The data are stored in an array. How will we which one is in the left or right?\n",
    "        Ans: for node at index i :\n",
    "                left_child_index = 2i + 1\n",
    "                right_child_index = 2i + 2\n",
    "                (FOR COMPLETE BINARY TREE ONLY)"
   ]
  },
  {
   "cell_type": "code",
   "execution_count": null,
   "metadata": {},
   "outputs": [],
   "source": []
  }
 ],
 "metadata": {
  "kernelspec": {
   "display_name": "Python 3",
   "language": "python",
   "name": "python3"
  },
  "language_info": {
   "codemirror_mode": {
    "name": "ipython",
    "version": 3
   },
   "file_extension": ".py",
   "mimetype": "text/x-python",
   "name": "python",
   "nbconvert_exporter": "python",
   "pygments_lexer": "ipython3",
   "version": "3.7.3"
  }
 },
 "nbformat": 4,
 "nbformat_minor": 2
}
