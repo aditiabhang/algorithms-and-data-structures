{
 "cells": [
  {
   "cell_type": "markdown",
   "metadata": {},
   "source": [
    "### Big O for Python Data Structure"
   ]
  },
  {
   "cell_type": "markdown",
   "metadata": {},
   "source": [
    "#### Lists\n",
    "- In Python, lists act as dynamic arrays and support a number of common operations through methods called on them.\n",
    "- The two most common operations performed on a list are:\n",
    "1. indexing,  \n",
    "2. assigning to an index position. \n",
    "- These operations are both designed to be run in constant time, O(1)."
   ]
  },
  {
   "cell_type": "markdown",
   "metadata": {},
   "source": [
    "Lets consider different methods to construct a list that is [0,1,2...10000] and compare various methods. \n",
    "Such as appending to the end of a list, concatenating a list, or using tools such as casting and list comprehension."
   ]
  },
  {
   "cell_type": "code",
   "execution_count": 8,
   "metadata": {},
   "outputs": [],
   "source": [
    "def method1():\n",
    "    lst = []\n",
    "    for x in range(10000):\n",
    "        lst = lst + [x]\n",
    "        \n",
    "def method2():      #append\n",
    "    lst = []\n",
    "    for x in range(10000):\n",
    "        lst.append(x)\n",
    "        \n",
    "def method3():      # list comprehension\n",
    "    lst = [x for x in range(10000)]\n",
    "    \n",
    "def method4():      # built-in method\n",
    "    lst= (list(range(10000)))    "
   ]
  },
  {
   "cell_type": "markdown",
   "metadata": {},
   "source": [
    "Testing the methods using timeit magic function. "
   ]
  },
  {
   "cell_type": "code",
   "execution_count": null,
   "metadata": {},
   "outputs": [
    {
     "name": "stdout",
     "output_type": "stream",
     "text": [
      "174 ms ± 25.7 ms per loop (mean ± std. dev. of 7 runs, 10 loops each)\n"
     ]
    }
   ],
   "source": [
    "%timeit method1()\n",
    "%timeit method2()\n",
    "%timeit method3()\n",
    "%timeit method4()"
   ]
  },
  {
   "cell_type": "markdown",
   "metadata": {},
   "source": [
    " The most effective method is the built-in *range()* function in Python!"
   ]
  },
  {
   "cell_type": "markdown",
   "metadata": {},
   "source": [
    "#### Table of Big-O for common list operations"
   ]
  },
  {
   "cell_type": "markdown",
   "metadata": {},
   "source": [
    "\n",
    "| Operation |\tBig-O Efficiency\n",
    "|------------- | -------------\n",
    "| index [] |\tO(1)\n",
    "| index assignment |\tO(1)\n",
    "| append |\tO(1)\n",
    "| pop() |\tO(1)\n",
    "| pop(i) |\tO(n)\n",
    "| insert (i,item) |\tO(n)\n",
    "| del operator |\tO(n)\n",
    "| iteration |\tO(n)\n",
    "| contains (in) |\tO(n)\n",
    "| get slice [x:y] |\tO(k)\n",
    "| del slice |\tO(n)\n",
    "| set slice |\tO(n+k)\n",
    "| reverse |\tO(n)\n",
    "| concatenate |\tO(k)\n",
    "| sort |\tO(n log n)\n",
    "| multiply |\tO(nk)\n"
   ]
  },
  {
   "cell_type": "markdown",
   "metadata": {},
   "source": [
    "### Dictionaries\n",
    "-  Dictionaries in Python are an implementation of a hash table. \n",
    "- They operate with keys and values."
   ]
  },
  {
   "cell_type": "code",
   "execution_count": null,
   "metadata": {},
   "outputs": [],
   "source": [
    "dicto = {'k1': 'one', 'k2': 'two', 'k3':'three', 'k4':'and so on..' }"
   ]
  },
  {
   "cell_type": "code",
   "execution_count": null,
   "metadata": {},
   "outputs": [],
   "source": [
    "dicto['k4']"
   ]
  },
  {
   "cell_type": "markdown",
   "metadata": {},
   "source": [
    "#### Table of Big-O for common dictionary operations\n",
    "\n",
    "\n",
    "- Something that is pretty amazing is that getting and setting items in a dictionary are O(1)!"
   ]
  },
  {
   "cell_type": "markdown",
   "metadata": {},
   "source": [
    "| Operation |\tBig-O Efficiency\n",
    "|------------- | ------------\n",
    "| copy |\tO(n)\n",
    "| get item |\tO(1)\n",
    "| set item |\tO(1)\n",
    "| delete item |\tO(1)\n",
    "| contains (in) |\tO(1)\n",
    "| iteration |\tO(n)"
   ]
  },
  {
   "cell_type": "code",
   "execution_count": null,
   "metadata": {},
   "outputs": [],
   "source": []
  }
 ],
 "metadata": {
  "kernelspec": {
   "display_name": "Python 3",
   "language": "python",
   "name": "python3"
  },
  "language_info": {
   "codemirror_mode": {
    "name": "ipython",
    "version": 3
   },
   "file_extension": ".py",
   "mimetype": "text/x-python",
   "name": "python",
   "nbconvert_exporter": "python",
   "pygments_lexer": "ipython3",
   "version": "3.7.4"
  }
 },
 "nbformat": 4,
 "nbformat_minor": 4
}
