{
 "cells": [
  {
   "cell_type": "code",
   "execution_count": 4,
   "metadata": {},
   "outputs": [],
   "source": [
    "class M(object):\n",
    "    \n",
    "    def public(self):\n",
    "        print(\"Use Tab to see me.\")\n",
    "        \n",
    "    def _private(self):\n",
    "        print(\"You wont be able to Tab to see me.\")"
   ]
  },
  {
   "cell_type": "code",
   "execution_count": 5,
   "metadata": {},
   "outputs": [],
   "source": [
    "# m is an instance of class M\n",
    "m = M()"
   ]
  },
  {
   "cell_type": "code",
   "execution_count": 6,
   "metadata": {},
   "outputs": [
    {
     "name": "stdout",
     "output_type": "stream",
     "text": [
      "Use Tab to see me.\n"
     ]
    }
   ],
   "source": [
    "# when we press tab after writing down 'm', we get only public function. \n",
    "# Private function are required to be specified manually.\n",
    "m.public()"
   ]
  },
  {
   "cell_type": "code",
   "execution_count": 7,
   "metadata": {},
   "outputs": [
    {
     "name": "stdout",
     "output_type": "stream",
     "text": [
      "You wont be able to Tab to see me.\n"
     ]
    }
   ],
   "source": [
    "m._private()"
   ]
  },
  {
   "cell_type": "code",
   "execution_count": null,
   "metadata": {},
   "outputs": [],
   "source": [
    "#------------------------------------------------------------`"
   ]
  },
  {
   "cell_type": "code",
   "execution_count": 25,
   "metadata": {},
   "outputs": [],
   "source": [
    "import ctypes\n",
    "\n",
    "class DynamicArray(object):\n",
    "    \n",
    "    def __init__(self):\n",
    "        \n",
    "        self.n = 0\n",
    "        self.capacity = 1\n",
    "        self.A = self.make_array(self.capacity)\n",
    "        \n",
    "    def __len__(self):\n",
    "        return self.n\n",
    "    \n",
    "    def __getitem__(self, k):\n",
    "        \n",
    "        if not 0 <= k <= self.n:\n",
    "            return IndexError('k is out of bound!')\n",
    "        \n",
    "        return self.A[k]\n",
    "    \n",
    "    def append(self, elem):\n",
    "        \n",
    "        if self.n == self.capacity:\n",
    "            self._resize(2*self.capacity)  #2X if the capacity isn't enough.\n",
    "            \n",
    "        self.A[self.n] = elem\n",
    "        self.n += 1\n",
    "        \n",
    "    def _resize(self, new_cap):\n",
    "        \n",
    "        B = self.make_array(new_cap)\n",
    "        \n",
    "        for k in range(self.n):\n",
    "            B[k] = self.A[k]\n",
    "            \n",
    "        self.A = B\n",
    "        self.capacity = new_cap\n",
    "        \n",
    "    def make_array(self, new_cap):\n",
    "        \n",
    "        return (new_cap * ctypes.py_object)()\n",
    "        "
   ]
  },
  {
   "cell_type": "code",
   "execution_count": 26,
   "metadata": {},
   "outputs": [],
   "source": [
    "arr = DynamicArray()"
   ]
  },
  {
   "cell_type": "code",
   "execution_count": 27,
   "metadata": {},
   "outputs": [],
   "source": [
    "arr.append(3)"
   ]
  },
  {
   "cell_type": "code",
   "execution_count": 28,
   "metadata": {},
   "outputs": [
    {
     "data": {
      "text/plain": [
       "1"
      ]
     },
     "execution_count": 28,
     "metadata": {},
     "output_type": "execute_result"
    }
   ],
   "source": [
    "len(arr)"
   ]
  },
  {
   "cell_type": "code",
   "execution_count": 36,
   "metadata": {},
   "outputs": [],
   "source": [
    "arr.append(4)"
   ]
  },
  {
   "cell_type": "code",
   "execution_count": 37,
   "metadata": {},
   "outputs": [
    {
     "data": {
      "text/plain": [
       "6"
      ]
     },
     "execution_count": 37,
     "metadata": {},
     "output_type": "execute_result"
    }
   ],
   "source": [
    "len(arr)"
   ]
  },
  {
   "cell_type": "code",
   "execution_count": null,
   "metadata": {},
   "outputs": [],
   "source": []
  }
 ],
 "metadata": {
  "kernelspec": {
   "display_name": "Python 3",
   "language": "python",
   "name": "python3"
  },
  "language_info": {
   "codemirror_mode": {
    "name": "ipython",
    "version": 3
   },
   "file_extension": ".py",
   "mimetype": "text/x-python",
   "name": "python",
   "nbconvert_exporter": "python",
   "pygments_lexer": "ipython3",
   "version": "3.7.4"
  }
 },
 "nbformat": 4,
 "nbformat_minor": 4
}
