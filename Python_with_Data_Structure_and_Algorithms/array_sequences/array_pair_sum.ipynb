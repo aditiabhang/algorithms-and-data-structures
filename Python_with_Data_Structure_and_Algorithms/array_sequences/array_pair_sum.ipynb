{
 "cells": [
  {
   "cell_type": "markdown",
   "metadata": {},
   "source": [
    "### Array Pair Sum\n",
    "\n",
    "Problem\n",
    "Given an integer array, output all the unique pairs that sum up to a specific value k.\n",
    "\n",
    "So the input:\n",
    "\n",
    "```\n",
    "pair_sum([1,3,2,2],4)\n",
    "```\n",
    "\n",
    "would return 2 pairs:\n",
    "\n",
    "```\n",
    " (1,3)\n",
    " (2,2)\n",
    " ```"
   ]
  },
  {
   "cell_type": "markdown",
   "metadata": {},
   "source": [
    "### Solution"
   ]
  },
  {
   "cell_type": "code",
   "execution_count": 33,
   "metadata": {},
   "outputs": [],
   "source": [
    "def pair_sum(arr, k):\n",
    "    \n",
    "    if len(arr)< 2:\n",
    "        return\n",
    "    \n",
    "    # stes for tracking\n",
    "    seen = set()\n",
    "    output = set()\n",
    "    \n",
    "    for num in arr:\n",
    "        \n",
    "        target = k-num\n",
    "        \n",
    "        if target not in seen:\n",
    "            seen.add(num)\n",
    "        else:\n",
    "            output.add(((min(num,target)), max(num,target)))\n",
    "            \n",
    "    return len(output)\n",
    "    print('\\n'.join(map(str,list(output))))\n",
    "    "
   ]
  },
  {
   "cell_type": "code",
   "execution_count": 34,
   "metadata": {},
   "outputs": [
    {
     "data": {
      "text/plain": [
       "2"
      ]
     },
     "execution_count": 34,
     "metadata": {},
     "output_type": "execute_result"
    }
   ],
   "source": [
    "pair_sum([1,3,2,2],4)"
   ]
  },
  {
   "cell_type": "markdown",
   "metadata": {},
   "source": [
    "#### Hacker (similar) Problem:\n",
    "\n",
    "You will be given an array of integers and a target value. Determine the number of pairs of array elements that have a difference equal to a target value.\n",
    "\n",
    "For example, given an array of [1, 2, 3, 4] and a target value of 1, we have three values meeting the condition: \n",
    "**2-1=1, 3-2=1,** and **4-3=1 .**"
   ]
  },
  {
   "cell_type": "code",
   "execution_count": 49,
   "metadata": {},
   "outputs": [],
   "source": [
    "# Hack rank problem:\n",
    "\n",
    "def pairs(k, arr):\n",
    "    counter = 0\n",
    "    set_arr = set(arr)\n",
    "    print (\"Array: \", arr)\n",
    "    print (\"Set of array: \", set_arr)\n",
    "    print (\"Target: \", k)\n",
    "    \n",
    "    for val in arr:\n",
    "        if val + k in set_arr:\n",
    "            counter += 1\n",
    "    print(\"Counter: \", counter)"
   ]
  },
  {
   "cell_type": "code",
   "execution_count": 50,
   "metadata": {},
   "outputs": [
    {
     "name": "stdout",
     "output_type": "stream",
     "text": [
      "Array:  [1, 3, 2, 2]\n",
      "Set of array:  {1, 2, 3}\n",
      "Target:  4\n",
      "Counter:  0\n"
     ]
    }
   ],
   "source": [
    "pairs(4,[1,3,2,2])"
   ]
  },
  {
   "cell_type": "code",
   "execution_count": null,
   "metadata": {},
   "outputs": [],
   "source": []
  },
  {
   "cell_type": "code",
   "execution_count": null,
   "metadata": {},
   "outputs": [],
   "source": []
  }
 ],
 "metadata": {
  "kernelspec": {
   "display_name": "Python 3",
   "language": "python",
   "name": "python3"
  },
  "language_info": {
   "codemirror_mode": {
    "name": "ipython",
    "version": 3
   },
   "file_extension": ".py",
   "mimetype": "text/x-python",
   "name": "python",
   "nbconvert_exporter": "python",
   "pygments_lexer": "ipython3",
   "version": "3.7.4"
  }
 },
 "nbformat": 4,
 "nbformat_minor": 4
}
