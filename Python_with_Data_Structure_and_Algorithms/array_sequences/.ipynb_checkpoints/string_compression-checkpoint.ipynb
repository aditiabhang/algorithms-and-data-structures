{
 "cells": [
  {
   "cell_type": "markdown",
   "metadata": {},
   "source": [
    "### String Compression"
   ]
  },
  {
   "cell_type": "markdown",
   "metadata": {},
   "source": [
    "#### Problem\n",
    "\n",
    "Given a string in the form 'AAAABBBBCCCCCDDEEEE' compress it to become 'A4B4C5D2E4'. For this problem, you can falsely \"compress\" strings of single or double letters. For instance, it is okay for 'AAB' to return 'A2B1' even though this technically takes more space.\n",
    "\n",
    "The function should also be case sensitive, so that a string 'AAAaaa' returns 'A3a3'."
   ]
  },
  {
   "cell_type": "markdown",
   "metadata": {},
   "source": [
    "#### Solution\n",
    "\n",
    "Since Python strings are immutable, we'll need to work off of a list of characters, and at the end convert that list back into a string with a join statement.\n",
    "\n",
    "The solution below should yield us with a Time and Space complexity of O(n)."
   ]
  },
  {
   "cell_type": "code",
   "execution_count": null,
   "metadata": {},
   "outputs": [],
   "source": [
    "def compress_str(given):\n",
    "    \n",
    "    '''\n",
    "    Here we make use of 'run length compression (Run Length Encoding)': \n",
    "    It replaces sequences of the same data values within a file by a count number and a single value.\n",
    "    '''\n",
    "\n",
    "    # creating empty string for final output\n",
    "    string_output = ''\n",
    "\n",
    "    # edge cases\n",
    "    if len(given) == 0:\n",
    "        return ''\n",
    "\n",
    "    if len(given) == 1:\n",
    "        return s + \"1\"\n",
    "\n",
    "    # initializing variables for tracking\n",
    "    count = 1\n",
    "    index = 1\n",
    "\n",
    "    while index < len(given):\n",
    "\n",
    "        # checking similar chars\n",
    "        if given[index] == given[index-1]:\n",
    "            # add the char count\n",
    "            count += 1\n",
    "        else:\n",
    "            # add new char in the output string\n",
    "            string_output = string_output + given[index-1] + str(count)\n",
    "            # new char count becomes 1\n",
    "            count = 1\n",
    "        # adding index count to loop thorugh\n",
    "        index += 1\n",
    "    \n",
    "    # adding the final running string\n",
    "    string_output = string_output + given[index-1] + str(count)\n",
    "\n",
    "    print(\"Answer: \", string_output)\n",
    "\n",
    "    "
   ]
  },
  {
   "cell_type": "code",
   "execution_count": null,
   "metadata": {},
   "outputs": [],
   "source": [
    "compress_str('AAAAABBBBCCCC')"
   ]
  },
  {
   "cell_type": "code",
   "execution_count": null,
   "metadata": {},
   "outputs": [],
   "source": []
  }
 ],
 "metadata": {
  "kernelspec": {
   "display_name": "Python 3",
   "language": "python",
   "name": "python3"
  },
  "language_info": {
   "codemirror_mode": {
    "name": "ipython",
    "version": 3
   },
   "file_extension": ".py",
   "mimetype": "text/x-python",
   "name": "python",
   "nbconvert_exporter": "python",
   "pygments_lexer": "ipython3",
   "version": "3.7.4"
  }
 },
 "nbformat": 4,
 "nbformat_minor": 4
}
