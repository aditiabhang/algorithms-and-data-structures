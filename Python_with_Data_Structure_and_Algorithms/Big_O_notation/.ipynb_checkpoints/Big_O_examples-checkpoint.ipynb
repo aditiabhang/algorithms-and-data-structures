{
 "cells": [
  {
   "cell_type": "markdown",
   "metadata": {},
   "source": [
    "### Big O examples: \n",
    "- In this notebook, I have noted down the simple examples of various Big O notations for better understanding on Time complexity and Space complexity. "
   ]
  },
  {
   "cell_type": "markdown",
   "metadata": {},
   "source": [
    "#### O(1)  - Contant"
   ]
  },
  {
   "cell_type": "code",
   "execution_count": 2,
   "metadata": {},
   "outputs": [
    {
     "name": "stdout",
     "output_type": "stream",
     "text": [
      "1\n"
     ]
    }
   ],
   "source": [
    "def func_constant(values):\n",
    "    '''\n",
    "    Prints first item in a list of values.\n",
    "    '''\n",
    "    print (values[0])\n",
    "    \n",
    "func_constant([1,2,3])"
   ]
  },
  {
   "cell_type": "markdown",
   "metadata": {},
   "source": [
    "This function is constant because regardless of the list size, the function will only ever take a constant step size, in this case 1, printing the first value from a list. \n",
    "So we can see that an input list of 100 values will print just 1 item, a list of 10,000 values will print just 1 item, and a list of n values will print just 1 item!"
   ]
  },
  {
   "cell_type": "markdown",
   "metadata": {},
   "source": [
    "#### O(n) - Linear"
   ]
  },
  {
   "cell_type": "code",
   "execution_count": 3,
   "metadata": {},
   "outputs": [
    {
     "name": "stdout",
     "output_type": "stream",
     "text": [
      "1\n",
      "2\n",
      "3\n"
     ]
    }
   ],
   "source": [
    "def func_lin(lst):\n",
    "    '''\n",
    "    Takes in list and prints out all values\n",
    "    '''\n",
    "    for val in lst:\n",
    "        print (val)\n",
    "        \n",
    "func_lin([1,2,3])"
   ]
  },
  {
   "cell_type": "markdown",
   "metadata": {},
   "source": [
    "This function runs in O(n) (linear time). \n",
    "This means that the number of operations taking place scales linearly with n, so we can see here that an input list of 100 values will print 100 times, a list of 10,000 values will print 10,000 times, and a list of n values will print n times."
   ]
  },
  {
   "cell_type": "markdown",
   "metadata": {},
   "source": [
    "#### O(n^2) - Quadratic"
   ]
  },
  {
   "cell_type": "code",
   "execution_count": 6,
   "metadata": {},
   "outputs": [
    {
     "name": "stdout",
     "output_type": "stream",
     "text": [
      "0 0\n",
      "0 1\n",
      "0 2\n",
      "0 3\n",
      "1 0\n",
      "1 1\n",
      "1 2\n",
      "1 3\n",
      "2 0\n",
      "2 1\n",
      "2 2\n",
      "2 3\n",
      "3 0\n",
      "3 1\n",
      "3 2\n",
      "3 3\n"
     ]
    }
   ],
   "source": [
    "def func_quad(lst):\n",
    "    '''\n",
    "    Prints pairs for every item in list.\n",
    "    '''\n",
    "    for item_1 in lst:\n",
    "        for item_2 in lst:\n",
    "            print (item_1,item_2)\n",
    "            \n",
    "lst = [0, 1, 2, 3]\n",
    "\n",
    "func_quad(lst)"
   ]
  },
  {
   "cell_type": "markdown",
   "metadata": {},
   "source": [
    "Here we have two loops, one nested inside another. \n",
    "This means that for a list of n items, we will have to perform n operations for every item in the list! \n",
    "This means in total, we will perform n times n assignments, or n^2. So a list of 10 items will have 10^2, or 100 operations. How dangerous this can get for very large inputs! This is why Big-O is so important to be aware of!"
   ]
  },
  {
   "cell_type": "markdown",
   "metadata": {},
   "source": [
    "#### Space Complexity\n",
    "\n",
    "- The notation of space complexity is the same, but instead of checking the time of operations, we check the size of the allocation of memory."
   ]
  },
  {
   "cell_type": "code",
   "execution_count": 7,
   "metadata": {},
   "outputs": [],
   "source": [
    "def printer(n=10):\n",
    "    '''\n",
    "    Prints \"hello world!\" n times\n",
    "    '''\n",
    "    for x in range(n):\n",
    "        print ('Hello World!')"
   ]
  },
  {
   "cell_type": "code",
   "execution_count": 8,
   "metadata": {},
   "outputs": [
    {
     "name": "stdout",
     "output_type": "stream",
     "text": [
      "Hello World!\n",
      "Hello World!\n",
      "Hello World!\n",
      "Hello World!\n",
      "Hello World!\n",
      "Hello World!\n",
      "Hello World!\n",
      "Hello World!\n",
      "Hello World!\n",
      "Hello World!\n"
     ]
    }
   ],
   "source": [
    "printer()"
   ]
  },
  {
   "cell_type": "markdown",
   "metadata": {},
   "source": [
    "Here we only assign the 'hello world!' variable **once**, not every time we print. \n",
    "So the algorithm has **O(1) space complexity** and an **O(n) time complexity**."
   ]
  },
  {
   "cell_type": "code",
   "execution_count": null,
   "metadata": {},
   "outputs": [],
   "source": []
  }
 ],
 "metadata": {
  "kernelspec": {
   "display_name": "Python 3",
   "language": "python",
   "name": "python3"
  },
  "language_info": {
   "codemirror_mode": {
    "name": "ipython",
    "version": 3
   },
   "file_extension": ".py",
   "mimetype": "text/x-python",
   "name": "python",
   "nbconvert_exporter": "python",
   "pygments_lexer": "ipython3",
   "version": "3.7.4"
  }
 },
 "nbformat": 4,
 "nbformat_minor": 4
}
