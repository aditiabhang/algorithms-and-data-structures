{
 "cells": [
  {
   "cell_type": "markdown",
   "metadata": {},
   "source": [
    "## Big Omega and Theta"
   ]
  },
  {
   "cell_type": "markdown",
   "metadata": {},
   "source": [
    "- In real life a lot of developers don't use it on a daily basis. Yet, understanding, applying and practicing it during studying build that skill that makes you write better algorithms. And for that reason, being asked about the Big O notation is very common in technical interviews.\n",
    "\n",
    "- Another two notations that worth mentioning are Big Omega and Big Theta. I would dare to say that in a day to day basis, these two notations are almost never used. In the exception of Interviews and research groups."
   ]
  },
  {
   "cell_type": "markdown",
   "metadata": {},
   "source": [
    "### Big Omega"
   ]
  },
  {
   "cell_type": "markdown",
   "metadata": {},
   "source": [
    "- If we call Big O the worst case scenario, then Big Omega is the best case scenario or the super lucky scenario. A simple example: What is the best scenario in case of sorting an array of a size N using Bubble sort? The best case is if the array was already sorted! and for the Bubble sort algorithm, it takes one iteration over the array (From 0 to N-1) to find out that it is indeed sorted. Therefore Big Omega of Bubble sort is Ω(n)."
   ]
  },
  {
   "cell_type": "markdown",
   "metadata": {},
   "source": [
    "### Big Theta"
   ]
  },
  {
   "cell_type": "markdown",
   "metadata": {},
   "source": [
    "- If the best case scenario and the worst case scenario are the same, then we would use the Big Theta notation instead of saying that the Big O and Big Omega of this algorithm are the same."
   ]
  }
 ],
 "metadata": {
  "kernelspec": {
   "display_name": "Python 3",
   "language": "python",
   "name": "python3"
  },
  "language_info": {
   "codemirror_mode": {
    "name": "ipython",
    "version": 3
   },
   "file_extension": ".py",
   "mimetype": "text/x-python",
   "name": "python",
   "nbconvert_exporter": "python",
   "pygments_lexer": "ipython3",
   "version": "3.7.3"
  }
 },
 "nbformat": 4,
 "nbformat_minor": 2
}
