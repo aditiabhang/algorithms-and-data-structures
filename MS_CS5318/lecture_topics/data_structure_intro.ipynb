{
 "cells": [
  {
   "cell_type": "markdown",
   "metadata": {},
   "source": [
    "## Data Structures"
   ]
  },
  {
   "cell_type": "markdown",
   "metadata": {},
   "source": [
    "### 1. Arrays"
   ]
  },
  {
   "cell_type": "markdown",
   "metadata": {},
   "source": [
    "- Lets take a remember how array works.\n",
    "When you first define an array with a certain size, the computer allocates/reserves adjacent memory spaces with the same size requested.\n",
    "This makes it easy and fast to access any location or the data stored in that location."
   ]
  },
  {
   "cell_type": "markdown",
   "metadata": {},
   "source": [
    "- Let's say we created an array of size N=1,000,000, the computer will reserve 1,000,000 spaces next to each others in memory.\n",
    "Let's assume that the computer allocated the first space is at address 300 (decimal), then the last space will be at address 1,000,300 (decimal).\n",
    "Therefore, if we would like to access the location 500,000 in the array, all what the computer has to do is to add the location number 500,000 to the beginning address 300.\n",
    "Which will give us the address of 500,300 and the computer can access that location. It only takes two steps, or Big O(2) which is a great constant time that is almost immediate.\n",
    "That's why we usual say that arrays have the ability of immediate random access."
   ]
  },
  {
   "cell_type": "markdown",
   "metadata": {},
   "source": [
    "**Advantages of Arrays:**"
   ]
  },
  {
   "cell_type": "markdown",
   "metadata": {},
   "source": [
    "- Simple to implement\n",
    "- Immediate Random Access"
   ]
  },
  {
   "cell_type": "markdown",
   "metadata": {},
   "source": [
    "**Disadvantages of Arrays:**"
   ]
  },
  {
   "cell_type": "markdown",
   "metadata": {},
   "source": [
    "- We have to define the size of the array ahead of time. \n",
    "- We can't directly add, delete or resize the array without creating a new array and copy the elements to it, which if the array has N elements, it will be Big O(N) to copy."
   ]
  },
  {
   "cell_type": "markdown",
   "metadata": {},
   "source": [
    "### 2. Linked List"
   ]
  },
  {
   "cell_type": "markdown",
   "metadata": {},
   "source": [
    "#### How it happened?"
   ]
  },
  {
   "cell_type": "markdown",
   "metadata": {},
   "source": [
    "Let's consider this box to be the computer memory. It's divided into cells. These memory cells may each have an address linked to them. The way we access each cell is by\n",
    "knowing the address or referencing an address.\n",
    "\n",
    "Let's take an example of an array. An array is called the Arr. When access the first index, say Arr[0], that will be replaced with the address, let's say is 01 and that's how we access the data in there. When access Arr[3], all we have to do is to add the index three to the beginning address of Arr[0]. We go back. It's one, so three plus one is actually four. And this is the address of Arr[3]. And that's how we access it.\n",
    "This is a feature that gives us the random access space in the RAM.\n",
    "\n",
    "However, computer memory is not as clean as that, especially if you run after programs in the operating system. So things are more likely to look like distorted, scattered. And in this case, there are wasted spaces in the model. Obviously, we cannot put an array there because they have to be in adjacent places. So what we can do is we can actually take advantage of these spaces and use them, for example, in a linked list."
   ]
  },
  {
   "cell_type": "markdown",
   "metadata": {},
   "source": [
    "- Basically, Linked List is a big data structure that consists of several smaller data structures called Nodes, these nodes are linked to each other's or chained into each other's by pointers."
   ]
  },
  {
   "cell_type": "code",
   "execution_count": null,
   "metadata": {},
   "outputs": [],
   "source": []
  }
 ],
 "metadata": {
  "kernelspec": {
   "display_name": "Python 3",
   "language": "python",
   "name": "python3"
  },
  "language_info": {
   "codemirror_mode": {
    "name": "ipython",
    "version": 3
   },
   "file_extension": ".py",
   "mimetype": "text/x-python",
   "name": "python",
   "nbconvert_exporter": "python",
   "pygments_lexer": "ipython3",
   "version": "3.7.3"
  }
 },
 "nbformat": 4,
 "nbformat_minor": 2
}
