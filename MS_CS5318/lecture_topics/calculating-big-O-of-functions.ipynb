{
 "cells": [
  {
   "cell_type": "markdown",
   "metadata": {},
   "source": [
    "#### Calculating Big-O of algorithm/ function\n",
    "- At first I was afraid of the discrete algebraic formulae for calculating the asymptotic notations of algorithms or functions. I means just by thinking of all these heavy smarty words feels huge thing. Nevertheless, I did my research by visiting many webpages, read about the same concept, the basic rules in various language and explanation form which finally made me confident enough to solve my graduate assignment with relief. Below are the things that I learnt from my tiny research."
   ]
  },
  {
   "cell_type": "markdown",
   "metadata": {},
   "source": [
    "#### Basic rules:\n",
    "1. Nested loops are multiplied together.\n",
    "2. Sequential loops are added.\n",
    "3. Only the largest term is kept, all others are dropped.\n",
    "4. Constants are dropped.\n",
    "5. Conditional checks are constant (i.e. 1)."
   ]
  }
 ],
 "metadata": {
  "kernelspec": {
   "display_name": "Python 3",
   "language": "python",
   "name": "python3"
  },
  "language_info": {
   "codemirror_mode": {
    "name": "ipython",
    "version": 3
   },
   "file_extension": ".py",
   "mimetype": "text/x-python",
   "name": "python",
   "nbconvert_exporter": "python",
   "pygments_lexer": "ipython3",
   "version": "3.7.3"
  }
 },
 "nbformat": 4,
 "nbformat_minor": 2
}
