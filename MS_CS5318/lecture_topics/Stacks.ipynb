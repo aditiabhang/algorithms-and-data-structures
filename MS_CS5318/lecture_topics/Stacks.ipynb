{
 "cells": [
  {
   "cell_type": "markdown",
   "metadata": {},
   "source": [
    "### Stacks"
   ]
  },
  {
   "cell_type": "markdown",
   "metadata": {},
   "source": [
    "- A stack is a special kind of LinkedList.\n",
    "- It generally only supports fast access to one side of the list as opposed to both and does not allow for access or removal for elements that's not the top of the stack.\n",
    "- LIFO(Last-in First-out) data structure.\n",
    "- There are three essential stack operations:push, pop, peek.\n",
    "- Pushing pushes a new element to the top of the stack; popping removes and returns the top element from the stack; and finally, peeking returns the top elment without removing it from the stack."
   ]
  },
  {
   "cell_type": "markdown",
   "metadata": {},
   "source": [
    "- There are a couple of options when you’re implementing a Python stack. The basic ones that will meet almost all of your needs.\n",
    "\n",
    "- Following are the Python stack implementations:\n",
    "\n",
    "    - list\n",
    "    - collections.deque\n",
    "    - queue.LifoQueue"
   ]
  },
  {
   "cell_type": "markdown",
   "metadata": {},
   "source": [
    "#### Using list to Create a Python Stack"
   ]
  },
  {
   "cell_type": "markdown",
   "metadata": {},
   "source": [
    "- The built-in list structure that you likely use frequently in your programs can be used as a stack.\n",
    "- Instead of .push(), you can use .append() to add new elements to the top of your stack, while .pop() removes the elements in the LIFO order:"
   ]
  },
  {
   "cell_type": "code",
   "execution_count": null,
   "metadata": {},
   "outputs": [],
   "source": [
    "myStack = []\n",
    "myStack.append('a')\n",
    "myStack.append('b')\n",
    "myStack.append('c')\n",
    "print (myStack)\n",
    "print (\"Now popping...\")\n",
    "myStack.pop()\n",
    "myStack.pop()\n",
    "print (myStack)\n",
    "print (\"Now removing the last one to check the error..\")\n",
    "myStack.pop()\n",
    "print (myStack)\n",
    "myStack.pop(4)"
   ]
  },
  {
   "cell_type": "markdown",
   "metadata": {},
   "source": [
    "- You can see the IndexError for popping from an empty list.\n",
    "- Unfortunately, list has a few shortcomings compared to other data structures.\n",
    "- #### The items in a list are stored with the goal of providing fast access to random elements in the list.\n",
    "- At a high level, this means that the items are stored next to each other in memory.\n",
    "- If your stack grows bigger than the block of memory that currently holds it, then Python needs to do some memory allocations. This can lead to some .append() calls taking much longer than other ones.\n",
    "-  If you use .insert() to add an element to your stack at a position other than the end, it can take much longer. "
   ]
  },
  {
   "cell_type": "markdown",
   "metadata": {},
   "source": [
    "#### Using collections.deque to Create a Python Stack"
   ]
  },
  {
   "cell_type": "markdown",
   "metadata": {},
   "source": [
    "- The collections module contains deque, which is useful for creating Python stacks. deque is pronounced “deck” and stands for “double-ended queue.”\n",
    "- Same methods are used on deque as you saw above for list, .append(), and .pop(), only that we have to add the import on the top of the code:\n",
    "            from collections import deque\n",
    "            myStack = deque()"
   ]
  },
  {
   "cell_type": "markdown",
   "metadata": {},
   "source": [
    "- This looks almost identical to the list example above. At this point, you might be wondering why the Python core developers would create two data structures that look the same."
   ]
  },
  {
   "cell_type": "code",
   "execution_count": null,
   "metadata": {},
   "outputs": [],
   "source": [
    "n = str(input())\n",
    "\n",
    "for index in range(len(n)):\n",
    "    if index % 2 == 0:\n",
    "        print(n[index], end='')\n",
    "    if index % 2 != 0:\n",
    "        print(n[index+1], end='')\n",
    "\n",
    "# print (even, odd, sep=\" \")"
   ]
  },
  {
   "cell_type": "code",
   "execution_count": 11,
   "metadata": {},
   "outputs": [
    {
     "name": "stdout",
     "output_type": "stream",
     "text": [
      "Hacker\n",
      "Hce akr\n"
     ]
    }
   ],
   "source": [
    "n = str(input())\n",
    "for i in range(len(n)):\n",
    "    even = n[::2]\n",
    "    odd = n[1::2]\n",
    "print (even +\" \"+ odd, sep=\"\")\n",
    "\n",
    "    "
   ]
  },
  {
   "cell_type": "code",
   "execution_count": null,
   "metadata": {},
   "outputs": [],
   "source": [
    "T = (input().strip())\n",
    "\n",
    "for i in range(0, len(T)):\n",
    "    S = input()\n",
    "    even, odd = S[::2], S[1::2]\n",
    "    print(even + \" \" + odd)"
   ]
  },
  {
   "cell_type": "code",
   "execution_count": null,
   "metadata": {},
   "outputs": [],
   "source": [
    "N = int(input())\n",
    "\n",
    "for i in range(0, N):\n",
    "\n",
    "    string = input()\n",
    "\n",
    "    for j in range(0, len(string)):\n",
    "        if j % 2 == 0:\n",
    "            print(string[j], end='')\n",
    "\n",
    "    print(\" \", end='')\n",
    "\n",
    "    for j in range(0, len(string)):\n",
    "        if j % 2 != 0:\n",
    "            print(string[j], end='')\n",
    "\n",
    "    print(\"\")"
   ]
  },
  {
   "cell_type": "code",
   "execution_count": null,
   "metadata": {},
   "outputs": [],
   "source": []
  }
 ],
 "metadata": {
  "kernelspec": {
   "display_name": "Python 3",
   "language": "python",
   "name": "python3"
  },
  "language_info": {
   "codemirror_mode": {
    "name": "ipython",
    "version": 3
   },
   "file_extension": ".py",
   "mimetype": "text/x-python",
   "name": "python",
   "nbconvert_exporter": "python",
   "pygments_lexer": "ipython3",
   "version": "3.7.3"
  }
 },
 "nbformat": 4,
 "nbformat_minor": 2
}
