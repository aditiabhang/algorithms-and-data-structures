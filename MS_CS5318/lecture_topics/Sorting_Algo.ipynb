{
 "cells": [
  {
   "cell_type": "markdown",
   "metadata": {},
   "source": [
    "## Sorting"
   ]
  },
  {
   "cell_type": "markdown",
   "metadata": {},
   "source": [
    "- Sorting is one of the fundamental and most useful algorithm. There are many situations where we might want to sort our data in some order. For example, we are given a group of kids and we want to line them up in order of age.\n",
    "- The youngest at the front of the line, and the oldest at the back.\n",
    "- Then, we would need to use some sorting algorithm to help us doing that.\n",
    "- Usually, in computer programming, we are sorting a list of numbers in either ascending order, where the smallest(minimum) number is on the most left side (At the front of the line) and the largest(maximum) number is on the most right side(at the end of the line) or descending order which is the exact opposite; however, we could also sort other data types if needed, as long as we define an order by which rules how they should be sorted. An example of unsorted integer array could be:"
   ]
  },
  {
   "cell_type": "code",
   "execution_count": null,
   "metadata": {},
   "outputs": [],
   "source": [
    "int_list=[1,2,3,41,15,33]\n",
    "int_list.sort()\n",
    "print (int_list)"
   ]
  },
  {
   "cell_type": "markdown",
   "metadata": {},
   "source": [
    "### Selection Sort"
   ]
  },
  {
   "cell_type": "markdown",
   "metadata": {},
   "source": [
    "- The selection sort algorithm sorts an array by repeatedly finding the minimum element (considering ascending order) from unsorted part and putting it at the beginning. The algorithm maintains two subarrays in a given array.\n",
    "\n",
    "1) The subarray which is already sorted.\n",
    "2) Remaining subarray which is unsorted.\n",
    "\n",
    "- In every iteration of selection sort, the minimum element (considering ascending order) from the unsorted subarray is picked and moved to the sorted subarray.\n",
    "- This algorithm is called Selection Sort, because at each step we select the smallest element from the unsorted portion of the array and swap to the front.\n",
    "\n",
    "- Python program for selection sort:"
   ]
  },
  {
   "cell_type": "code",
   "execution_count": 11,
   "metadata": {},
   "outputs": [
    {
     "ename": "NameError",
     "evalue": "name 'i' is not defined",
     "output_type": "error",
     "traceback": [
      "\u001b[0;31m---------------------------------------------------------------------------\u001b[0m",
      "\u001b[0;31mNameError\u001b[0m                                 Traceback (most recent call last)",
      "\u001b[0;32m<ipython-input-11-bd863eb3e1dd>\u001b[0m in \u001b[0;36m<module>\u001b[0;34m\u001b[0m\n\u001b[1;32m      5\u001b[0m \u001b[0;32mfor\u001b[0m \u001b[0mx\u001b[0m \u001b[0;32min\u001b[0m \u001b[0mrange\u001b[0m\u001b[0;34m(\u001b[0m\u001b[0mlen\u001b[0m\u001b[0;34m(\u001b[0m\u001b[0mA\u001b[0m\u001b[0;34m)\u001b[0m\u001b[0;34m)\u001b[0m\u001b[0;34m:\u001b[0m\u001b[0;34m\u001b[0m\u001b[0;34m\u001b[0m\u001b[0m\n\u001b[1;32m      6\u001b[0m     \u001b[0;31m#find the minimum\u001b[0m\u001b[0;34m\u001b[0m\u001b[0;34m\u001b[0m\u001b[0;34m\u001b[0m\u001b[0m\n\u001b[0;32m----> 7\u001b[0;31m     \u001b[0mmin_index\u001b[0m \u001b[0;34m=\u001b[0m \u001b[0mi\u001b[0m\u001b[0;34m\u001b[0m\u001b[0;34m\u001b[0m\u001b[0m\n\u001b[0m\u001b[1;32m      8\u001b[0m     \u001b[0;32mfor\u001b[0m \u001b[0my\u001b[0m \u001b[0;32min\u001b[0m \u001b[0mrange\u001b[0m\u001b[0;34m(\u001b[0m\u001b[0mi\u001b[0m\u001b[0;34m+\u001b[0m\u001b[0;36m1\u001b[0m\u001b[0;34m,\u001b[0m \u001b[0mlen\u001b[0m\u001b[0;34m(\u001b[0m\u001b[0mA\u001b[0m\u001b[0;34m)\u001b[0m\u001b[0;34m)\u001b[0m\u001b[0;34m:\u001b[0m\u001b[0;34m\u001b[0m\u001b[0;34m\u001b[0m\u001b[0m\n\u001b[1;32m      9\u001b[0m         \u001b[0;32mif\u001b[0m \u001b[0mA\u001b[0m\u001b[0;34m[\u001b[0m\u001b[0mmin_index\u001b[0m\u001b[0;34m]\u001b[0m \u001b[0;34m>\u001b[0m \u001b[0mA\u001b[0m\u001b[0;34m[\u001b[0m\u001b[0mj\u001b[0m\u001b[0;34m]\u001b[0m\u001b[0;34m:\u001b[0m\u001b[0;34m\u001b[0m\u001b[0;34m\u001b[0m\u001b[0m\n",
      "\u001b[0;31mNameError\u001b[0m: name 'i' is not defined"
     ]
    }
   ],
   "source": [
    "import sys\n",
    "A=[2,31,43,23,33,61,71,76,68,66]\n",
    "\n",
    "#traverse through the list\n",
    "for x in range(len(A)):\n",
    "    #find the minimum\n",
    "    min_index = i\n",
    "    for y in range(i+1, len(A)):\n",
    "        if A[min_index] > A[j]:\n",
    "            min_index = j\n",
    "    #swap them\n",
    "    A[i],A[min_index] = A[min_index],A[i]\n",
    "    \n",
    "print (\"Sorted list: \")\n",
    "for z in range(len(A)):\n",
    "    print (\"%d\", A[i])"
   ]
  },
  {
   "cell_type": "markdown",
   "metadata": {},
   "source": [
    "### Bubble Sort"
   ]
  },
  {
   "cell_type": "markdown",
   "metadata": {},
   "source": [
    "- Bubble Sort is the simplest sorting algorithm that works by repeatedly swapping the adjacent elements if they are in wrong order.\n",
    "- This sorting algorithm is called Bubble Sort because we continuously swap the largest element in the unsorted portion to the right until it is in its right position; the repetively swapping resembles the way bubbles rising to the surface.\n",
    "- Pseudocode for Bubble Sort:\n",
    "    \n",
    "    repeat until no swaps\n",
    "\t\tfor i from 0 to n-2\n",
    "\t\t\tif i'th and i+1'th elements are out of order\n",
    "\t\t\t\tswap them"
   ]
  },
  {
   "cell_type": "code",
   "execution_count": 12,
   "metadata": {},
   "outputs": [
    {
     "name": "stdout",
     "output_type": "stream",
     "text": [
      "Sorted list: [23, 23, 32, 45, 54, 66, 87, 98]\n"
     ]
    }
   ],
   "source": [
    "# Python code for Bubble Sort\n",
    "def bubble_sort(list):\n",
    "    for x in range(len(list)):\n",
    "        for y in range(0, len(list)-x-1):\n",
    "            if list[y] > list[y+1]:\n",
    "                list[y],list[y+1] = list[y+1],list[y]\n",
    "                \n",
    "list_nums = [32,87,98,23,45,23,54,66]\n",
    "for x in range(len(list_nums)):\n",
    "    bubble_sort(list_nums)\n",
    "\n",
    "print (\"Sorted list:\", list_nums)\n"
   ]
  },
  {
   "cell_type": "markdown",
   "metadata": {},
   "source": [
    "### Merge Sort"
   ]
  },
  {
   "cell_type": "markdown",
   "metadata": {},
   "source": [
    "- In case especially when we are dealing with a large array, in which we might have a million elements or more to sort, these two sorting algorithms can be relatively inefficient.\n",
    "- Now we look at a sorting algorithm that's faster but has its tradeoff of taking up a lot of memory space.\n",
    "- In Merge Sort, we recursively split and sort the left half and the right half of an array; once they are sorted, we combine them.\n",
    "- First, we are told to sort the left half and the right half of the array. So let's represent that by drawing a line between the two halves (by custom, if the array has odd size, we let the left side to have one fewer element).\n",
    "    Example:\n",
    "        \n",
    "        4,9,7|6,5,3,1 //split array\n",
    "        4,9,7\n",
    "        4|9,7 //split array\n",
    "        9,7\n",
    "        9|7 //split array\n",
    "        7,9 //combine\n",
    "        First half: 4,7,9\n",
    "\n",
    "        6,5|3,1//split array\n",
    "        6|5 | 3|1 // split each half again\n",
    "        5,6 | 1,3 // combine each half\n",
    "        1,3,5,6 // combine again \n",
    "        \n",
    "- Now, we have both the left and the right subarrays of the original array sorted, so we can combine them, and we are done!\n",
    "\n",
    "         1,3,4,5,6,7,9\n",
    "         \n",
    "- Here is the pseudocode:\n",
    "\n",
    "                if the size of array < 2: // already sorted\n",
    "                    return array \n",
    "                else\n",
    "                sort left subarray\n",
    "                sort right subarray\n",
    "                combine them\n",
    "                \n",
    "- See following C implementation for details.\n",
    "\n",
    "                MergeSort(arr[], l,  r)\n",
    "                If r > l\n",
    "                     1. Find the middle point to divide the array into two halves:  \n",
    "                             middle m = (l+r)/2\n",
    "                     2. Call mergeSort for first half:   \n",
    "                             Call mergeSort(arr, l, m)\n",
    "                     3. Call mergeSort for second half:\n",
    "                             Call mergeSort(arr, m+1, r)\n",
    "                     4. Merge the two halves sorted in step 2 and 3:\n",
    "                             Call merge(arr, l, m, r)\n",
    " "
   ]
  },
  {
   "cell_type": "code",
   "execution_count": 10,
   "metadata": {},
   "outputs": [
    {
     "name": "stdout",
     "output_type": "stream",
     "text": [
      "The list is: \n",
      "3\n",
      "66\n",
      "21\n",
      "22\n",
      "56\n",
      "Sorted the above list using Merge Sort: \n",
      "3\n",
      "21\n",
      "22\n",
      "56\n",
      "66\n"
     ]
    }
   ],
   "source": [
    "# python code\n",
    "def mergeSort(list):\n",
    "    if len(list) > 1:\n",
    "        mid = len(list)//2\n",
    "        left_half = list[:mid]\n",
    "        right_half = list[mid:]\n",
    "        \n",
    "        #merge sorting the two halves\n",
    "        mergeSort(left_half)\n",
    "        mergeSort(right_half)\n",
    "        \n",
    "        x = y = z = 0\n",
    "        while x < len(left_half) and y < len(right_half):\n",
    "            if left_half[x] < right_half[y]:\n",
    "                list[z] = left_half[x]\n",
    "                x = x+1\n",
    "            else:\n",
    "                list[z] = right_half[y]\n",
    "                y = y+1\n",
    "            z = z+1\n",
    "            \n",
    "        while x < len(left_half):\n",
    "            list[z] = left_half[x]\n",
    "            x = x+1\n",
    "            z = z+1\n",
    "        \n",
    "        while y < len(right_half):\n",
    "            list[z] = right_half[y]\n",
    "            y = y+1\n",
    "            z = z+1\n",
    "\n",
    "def printList(list):\n",
    "    for i in range(len(list)):\n",
    "        print (list[i])\n",
    "            \n",
    "           \n",
    "lista = [3,66,21,22,56]\n",
    "\n",
    "print (\"The list is: \")\n",
    "printList(lista)\n",
    "mergeSort(lista)\n",
    "print (\"Sorted the above list using Merge Sort: \")\n",
    "printList(lista)"
   ]
  },
  {
   "cell_type": "markdown",
   "metadata": {},
   "source": [
    "- Conclusion\n",
    "    Merge Sort works both with a large and small number of elements making it more efficient than Bubble, Insertion and Selection Sort. This comes at a price since Merge Sort uses additional space to produce a sorted list. The worst case runtime complexity of Merge Sort is o(nlog(n)) and the space complexity is n."
   ]
  }
 ],
 "metadata": {
  "kernelspec": {
   "display_name": "Python 3",
   "language": "python",
   "name": "python3"
  },
  "language_info": {
   "codemirror_mode": {
    "name": "ipython",
    "version": 3
   },
   "file_extension": ".py",
   "mimetype": "text/x-python",
   "name": "python",
   "nbconvert_exporter": "python",
   "pygments_lexer": "ipython3",
   "version": "3.7.3"
  }
 },
 "nbformat": 4,
 "nbformat_minor": 2
}
