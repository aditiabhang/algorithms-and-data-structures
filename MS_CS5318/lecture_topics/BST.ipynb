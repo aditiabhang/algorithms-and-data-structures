{
 "cells": [
  {
   "cell_type": "markdown",
   "metadata": {},
   "source": [
    "# Binary Search Tree"
   ]
  },
  {
   "cell_type": "markdown",
   "metadata": {},
   "source": [
    "BST:\n",
    "- A binary tree in which all the nodes in the left subtree is lesser than or equal to the root, and all the values on the right subtree is greater than the root.\n",
    "- In order to search an element we will find the mid (root) of the tree. If element is found then good. \n",
    "Otherwise we will keep on finding the mid by performing;\n",
    "n/2 => n/4 => n/8 => ... => 1.\n",
    "which is nothing but log2n => n/2k => n = 2k."
   ]
  }
 ],
 "metadata": {
  "kernelspec": {
   "display_name": "Python 3",
   "language": "python",
   "name": "python3"
  },
  "language_info": {
   "codemirror_mode": {
    "name": "ipython",
    "version": 3
   },
   "file_extension": ".py",
   "mimetype": "text/x-python",
   "name": "python",
   "nbconvert_exporter": "python",
   "pygments_lexer": "ipython3",
   "version": "3.7.3"
  }
 },
 "nbformat": 4,
 "nbformat_minor": 2
}
