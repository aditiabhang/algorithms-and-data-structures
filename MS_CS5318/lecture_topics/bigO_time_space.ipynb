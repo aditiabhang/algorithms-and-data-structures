{
 "cells": [
  {
   "cell_type": "markdown",
   "metadata": {},
   "source": [
    "## Big O Time and Space"
   ]
  },
  {
   "cell_type": "markdown",
   "metadata": {},
   "source": [
    "- We know that binary search is faster than linear search for a sorted array. But you may ask how much faster is it exactly? To answer questions like this and to have tools to analyze the efficiency of an algorithm, computer scientists use what's called Big O time and space notation.\n",
    "\n",
    "- The formal definition can get very mathematical. However, the underlying idea and notation is very intuitive and simple. For running ***time**, we count how many \"steps\" an algorithm would take in relation to the size of its input; for ***space**, we count how much memory space the algorithm needs in relation to the size of its input.\n",
    "\n",
    "- Consider Bubble Sort from the sorting section. Here is its pseudocode:"
   ]
  },
  {
   "cell_type": "markdown",
   "metadata": {},
   "source": [
    "    repeat until no swaps \n",
    "        for i from 0 to n-2\n",
    "            if i'th and i+1'th elements are out of order\n",
    "                swap them"
   ]
  },
  {
   "cell_type": "markdown",
   "metadata": {},
   "source": [
    "- Let's start at the top. Suppose we are given an array of size n. As we recursively split the array, at the bottom level, we can picture n arrays of size 1. Because these arrays have size less than 2, we don't do anything to them. So we move to the next step in the algorithm, where we combine them. How many steps do we take in \"combining\" them? To combine two arrays of size 1, we need to compare the two elements(1 step), and then put them into a new array in order (2 steps). In total, 3 steps. Note that there are n/2 combinings in total we need to do, so in total, we need 3n/2 steps at this level. Now, as we finished sorting and combining these tiny arrays, we can move above a level and deal with n/2 arrays of size 2. At this level, we are trying to combine n/2 arrays of size 2 into n/4 arrays of size 4. To combine 2 arrays of size 2, we need 6 steps(can you work it out?), so in total, we need 6*n/4= 3n/2 steps. If we do similar analysis for every level in the algorithm, it's not difficult to show that at every level, we need to take about 3n/2 steps, which is linear to n. This means that at every level, Merge Sort requires O(n) steps. So now the question is how many levels are there in Merge Sort in total?"
   ]
  },
  {
   "cell_type": "markdown",
   "metadata": {},
   "source": [
    "- Initially, we have an array of size n. At every level, we cut the size of arrays we are dealing with by half. Therefore, we are asking by how many times we can divide n by 2 until we reach 1? Mathematically, the exact answer would be log_2(n), but more often than not, this number would not be an integer. However, what we do know this is that the actual number of levels needed is in order O(log(n))."
   ]
  },
  {
   "cell_type": "markdown",
   "metadata": {},
   "source": [
    "- In sum, we have O(log(n)) levels and each level takes O(n) steps, so Merge Sort is in order of O(nlog(n)). For a large input of n, an O(nlog(n)) algorithm outperforms an O(n^2) algorithm significantly, because nlog(n) grows much slower than n^2."
   ]
  },
  {
   "cell_type": "markdown",
   "metadata": {},
   "source": [
    "- While Merge Sort is a lot faster, it is important to note that it takes a lot more space. In Bubble Sort, we don't utilize extra space at all; however, in Merge Sort, whenever we are trying to merge two arrays, we have to create a new array that is double the size of thest two arrays (remember that arrays are immutable). As such, at each level, we would need arrays that add up to size n, but because only one level of Merge Sort is running at a given time, we don't need to allocate space that's more than a n-sized array. Thus, we call Merge Sort in order of O(n) space. As mentioned, Bubble Sort does not take extra space, so it is in order of O(1) space. That is, regardless of how big our input is, the amount of extra space it takes is constant. In this case, the amount is actually 0."
   ]
  },
  {
   "cell_type": "markdown",
   "metadata": {},
   "source": [
    "### Conversation between Adrian and Sari"
   ]
  },
  {
   "cell_type": "markdown",
   "metadata": {},
   "source": [
    "Adrian :  I think Big O notation has a lot of sort of more minute and subtle uses that we use in day-to-day coding. But the process of calculating the actual Big O notation limit of a given algorithm is not something that computer scientists or even software engineers do very frequently. But, that said, it has a lot of sort of smaller scale individual uses. For example, just being aware of it will help you write cleaner and more efficient code.\n",
    "\n",
    "Sari : Can you tell us more specific example on how big you use it?\n",
    "\n",
    "Adrian :  As we learn throughout the course,\n",
    "a for loop is an operation that runs in Big O of n time, where n is the length of the for loop. And we also know that a double for loop is Big O of n squared and a triple for loop is O of n cubed.\n",
    "If you're going to be operating on very large Ns. It's going to take a very long time\n",
    "for your code to execute. So, based on my knowledge,\n",
    "the things I've learned about Big O notation, I now know it's generally best to avoid nested for loops, if you can.\n",
    "\n",
    "Sari : there are other things that we can actually use. So, what tool do you use, Adrian?\n",
    "\n",
    "Adrian : Personally, I'm a big fan of a feature that's within Visual Studio that actually analyzes your algorithms for you and projects a complexity in Big O time. There are a lot of different ones out there that can analyze how much memory you're using and how efficient your code is. So, I encourage you to look around. Do you have any example?\n",
    "\n",
    "Sari : Yeah, basically, sometimes, if you don't have any tools, you can just create your own timers and do test scenarios and increase that and see how much time. Similarly, you can see how much memory usage you have, so you can actually do it in-house without having any tools. And these are things that we've done before, all of us maybe. And at the same time, it is a very important component when you are doing a technical interview. So, if you go looking for a job, you cannot not to study and have a question about Big O or how your algorithm is doing, basically. Also, now I remember, last time we were kind of in a hackathon scenario and we had two different solutions. So, basically, how are you going to compare which one is better? We actually had to go down to: Oh, what is the Big O? Even though it was kind of more on the theory side, there's actually a way to compare a solution of one programmer to another and choose the best for the task.\n",
    "\n"
   ]
  }
 ],
 "metadata": {
  "kernelspec": {
   "display_name": "Python 3",
   "language": "python",
   "name": "python3"
  },
  "language_info": {
   "codemirror_mode": {
    "name": "ipython",
    "version": 3
   },
   "file_extension": ".py",
   "mimetype": "text/x-python",
   "name": "python",
   "nbconvert_exporter": "python",
   "pygments_lexer": "ipython3",
   "version": "3.7.3"
  }
 },
 "nbformat": 4,
 "nbformat_minor": 2
}
